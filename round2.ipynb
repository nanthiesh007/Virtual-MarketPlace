{
 "cells": [
  {
   "cell_type": "code",
   "execution_count": 5,
   "metadata": {},
   "outputs": [
    {
     "name": "stdout",
     "output_type": "stream",
     "text": [
      "2\n"
     ]
    }
   ],
   "source": [
    "def subarraySum(nums, k):\n",
    "    count = 0\n",
    "    cumulative_sum = 0\n",
    "    sum_freq = {0: 1} \n",
    "    \n",
    "    for num in nums:\n",
    "        cumulative_sum += num\n",
    "        if (cumulative_sum - k) in sum_freq:\n",
    "            count += sum_freq[cumulative_sum - k]\n",
    "        if cumulative_sum in sum_freq:\n",
    "            sum_freq[cumulative_sum] += 1\n",
    "        else:\n",
    "            sum_freq[cumulative_sum] = 1\n",
    "    \n",
    "    return count\n",
    "\n",
    "\n",
    "nums = eval(input())\n",
    "k = int(input())\n",
    "print(subarraySum(nums, k))  "
   ]
  },
  {
   "cell_type": "code",
   "execution_count": null,
   "metadata": {},
   "outputs": [],
   "source": []
  }
 ],
 "metadata": {
  "kernelspec": {
   "display_name": "Python 3",
   "language": "python",
   "name": "python3"
  },
  "language_info": {
   "codemirror_mode": {
    "name": "ipython",
    "version": 3
   },
   "file_extension": ".py",
   "mimetype": "text/x-python",
   "name": "python",
   "nbconvert_exporter": "python",
   "pygments_lexer": "ipython3",
   "version": "3.11.9"
  }
 },
 "nbformat": 4,
 "nbformat_minor": 2
}
